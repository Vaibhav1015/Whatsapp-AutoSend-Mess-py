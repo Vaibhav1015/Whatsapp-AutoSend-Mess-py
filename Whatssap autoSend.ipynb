{
 "cells": [
  {
   "cell_type": "code",
   "execution_count": null,
   "id": "4e3e7a24",
   "metadata": {},
   "outputs": [],
   "source": [
    "# Install first pyautogui\n",
    "\n",
    "pip install pyautogui"
   ]
  },
  {
   "cell_type": "code",
   "execution_count": 9,
   "id": "18b78752",
   "metadata": {},
   "outputs": [],
   "source": [
    "import pyautogui\n",
    "import time\n",
    "time.sleep(15)\n",
    "count=0\n",
    "while count<=50:\n",
    "    pyautogui.typewrite(\"Hello World \")\n",
    "    pyautogui.press(\"enter\")\n",
    "    count=count+1"
   ]
  },
  {
   "cell_type": "code",
   "execution_count": null,
   "id": "7bb78e75",
   "metadata": {},
   "outputs": [],
   "source": []
  }
 ],
 "metadata": {
  "kernelspec": {
   "display_name": "Python 3 (ipykernel)",
   "language": "python",
   "name": "python3"
  },
  "language_info": {
   "codemirror_mode": {
    "name": "ipython",
    "version": 3
   },
   "file_extension": ".py",
   "mimetype": "text/x-python",
   "name": "python",
   "nbconvert_exporter": "python",
   "pygments_lexer": "ipython3",
   "version": "3.9.13"
  }
 },
 "nbformat": 4,
 "nbformat_minor": 5
}
